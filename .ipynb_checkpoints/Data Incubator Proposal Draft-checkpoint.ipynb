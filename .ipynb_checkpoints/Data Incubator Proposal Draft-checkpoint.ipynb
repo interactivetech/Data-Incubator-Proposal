{
 "cells": [
  {
   "cell_type": "code",
   "execution_count": 107,
   "metadata": {},
   "outputs": [],
   "source": [
    "import json\n",
    "import numpy as np\n",
    "import matplotlib.pyplot as plt\n",
    "import pandas as pd\n",
    "import os\n",
    "import textacy\n",
    "from pandas.io.json import json_normalize #package for flattening json in pandas df\n",
    "%matplotlib inline"
   ]
  },
  {
   "cell_type": "code",
   "execution_count": 28,
   "metadata": {},
   "outputs": [],
   "source": [
    "f = open(\"json/reviews-20180717.log\")"
   ]
  },
  {
   "cell_type": "code",
   "execution_count": 132,
   "metadata": {},
   "outputs": [],
   "source": [
    "# !ls json/"
   ]
  },
  {
   "cell_type": "code",
   "execution_count": 46,
   "metadata": {},
   "outputs": [],
   "source": [
    "def parse_all_json_logs(path):\n",
    "    js = []\n",
    "    for log in os.listdir(path):\n",
    "        print(os.path.join(path,log) )\n",
    "        f = open(os.path.join(path,log))\n",
    "        lines = f.readlines()\n",
    "        print(\"Number of reviews: \",len(lines))\n",
    "        f.close()\n",
    "        reviews = [json.loads(i) for i in lines]\n",
    "        js+=reviews\n",
    "    return js"
   ]
  },
  {
   "cell_type": "code",
   "execution_count": 29,
   "metadata": {},
   "outputs": [],
   "source": [
    "js = f.readlines()\n",
    "f.close()"
   ]
  },
  {
   "cell_type": "code",
   "execution_count": 39,
   "metadata": {},
   "outputs": [],
   "source": [
    "uber_reviews = [json.loads(i) for i in js]"
   ]
  },
  {
   "cell_type": "code",
   "execution_count": 65,
   "metadata": {},
   "outputs": [
    {
     "name": "stdout",
     "output_type": "stream",
     "text": [
      "json/reviews-20180722.log\n",
      "Number of reviews:  54\n",
      "json/reviews-20180721.log\n",
      "Number of reviews:  163\n",
      "json/reviews-20180720.log\n",
      "Number of reviews:  157\n",
      "json/reviews-20180718.log\n",
      "Number of reviews:  119\n",
      "json/reviews-20180719.log\n",
      "Number of reviews:  171\n",
      "json/reviews-20180717.log\n",
      "Number of reviews:  53\n"
     ]
    }
   ],
   "source": [
    "reviews = parse_all_json_logs('json')"
   ]
  },
  {
   "cell_type": "code",
   "execution_count": 80,
   "metadata": {},
   "outputs": [],
   "source": [
    "# pd.DataFrame(reviews[0])\n",
    "df = json_normalize(reviews[0])\n",
    "for review in reviews[1:]:\n",
    "    df = pd.concat([df,json_normalize(review)],axis=0)"
   ]
  },
  {
   "cell_type": "code",
   "execution_count": 92,
   "metadata": {},
   "outputs": [],
   "source": [
    "uber_reviews = df[df[\"app_name\"]=='Uber']\n",
    "snapchat_reviews = df[df[\"app_name\"]=='Snapchat']"
   ]
  },
  {
   "cell_type": "code",
   "execution_count": 104,
   "metadata": {},
   "outputs": [
    {
     "data": {
      "text/plain": [
       "'Snap keeps glitching out when I try to take a picture I can’t send no pictures or videos without snap glitching out, please fix this issue'"
      ]
     },
     "execution_count": 104,
     "metadata": {},
     "output_type": "execute_result"
    }
   ],
   "source": [
    "# snapchat_reviews['rating']=snapchat_reviews['rating'].astype(int)\n",
    "snapchat_reviews[snapchat_reviews[\"rating\"]<4].iloc[0]['content_en']"
   ]
  },
  {
   "cell_type": "markdown",
   "metadata": {},
   "source": [
    "## Sentiment Test"
   ]
  },
  {
   "cell_type": "code",
   "execution_count": null,
   "metadata": {},
   "outputs": [],
   "source": []
  },
  {
   "cell_type": "markdown",
   "metadata": {},
   "source": [
    "## Test of Emotional Valence and Sentiment"
   ]
  },
  {
   "cell_type": "code",
   "execution_count": 118,
   "metadata": {},
   "outputs": [],
   "source": [
    "a = textacy.Doc(snapchat_reviews[snapchat_reviews[\"rating\"]<4].iloc[0]['content_en'],lang='en')"
   ]
  },
  {
   "cell_type": "code",
   "execution_count": 133,
   "metadata": {},
   "outputs": [],
   "source": [
    "from textacy.lexicon_methods import emotional_valence\n"
   ]
  },
  {
   "cell_type": "code",
   "execution_count": null,
   "metadata": {},
   "outputs": [],
   "source": []
  },
  {
   "cell_type": "markdown",
   "metadata": {},
   "source": [
    "### Emotional Analysis"
   ]
  },
  {
   "cell_type": "code",
   "execution_count": 176,
   "metadata": {},
   "outputs": [],
   "source": [
    "res = emotional_valence(list(a.tokens),dm_data_dir=\"../../DepecheMood_V1.0/\")"
   ]
  },
  {
   "cell_type": "code",
   "execution_count": 177,
   "metadata": {},
   "outputs": [
    {
     "data": {
      "text/plain": [
       "defaultdict(float,\n",
       "            {'AFRAID': 0.10909253308333333,\n",
       "             'AMUSED': 0.1509716585833333,\n",
       "             'ANGRY': 0.11458200458333333,\n",
       "             'ANNOYED': 0.12951957708333334,\n",
       "             'DONT_CARE': 0.13081050533333335,\n",
       "             'HAPPY': 0.12373831191666669,\n",
       "             'INSPIRED': 0.13202246833333334,\n",
       "             'SAD': 0.10926294116666668})"
      ]
     },
     "execution_count": 177,
     "metadata": {},
     "output_type": "execute_result"
    }
   ],
   "source": [
    "res"
   ]
  },
  {
   "cell_type": "code",
   "execution_count": 178,
   "metadata": {},
   "outputs": [
    {
     "data": {
      "text/plain": [
       "0.1509716585833333"
      ]
     },
     "execution_count": 178,
     "metadata": {},
     "output_type": "execute_result"
    }
   ],
   "source": [
    "res['AMUSED']"
   ]
  },
  {
   "cell_type": "code",
   "execution_count": 181,
   "metadata": {},
   "outputs": [],
   "source": [
    "def get_strongest_emotion(emotional_valence):\n",
    "    l = list(res.items())\n",
    "    return sorted(l,key=lambda x:x[1],reverse=True)[0]\n",
    "def get_strongest_pos_neg_emotion(emotional_valence):\n",
    "    '''\n",
    "    Removing emotions not relevent in app reviews\n",
    "    '''\n",
    "    #'AFRAID': 0.10909253308333333,\n",
    "    #'AMUSED': 0.1509716585833333,\n",
    "    # 'INSPIRED': 0.13202246833333334,\n",
    "    emotional_valence.pop('AFRAID')\n",
    "    emotional_valence.pop('AMUSED')\n",
    "    emotional_valence.pop('INSPIRED')\n",
    "    l = list(res.items())\n",
    "    return sorted(l,key=lambda x:x[1],reverse=True)[0]\n",
    "\n",
    "def compute_sentiment(emotional_valence):\n",
    "    '''\n",
    "    Hackish way to compute sentiment based on emotional valence\n",
    "    positive sentiment: average between AMUSED HAPPY INSPIRED\n",
    "    negative sentiment: average between ANGRY ANNOYED SAD\n",
    "    '''\n",
    "    pos_sen = np.array([emotional_valence['AMUSED'],emotional_valence['HAPPY']]).mean()\n",
    "    neg_sen = np.array([emotional_valence['ANGRY'],emotional_valence['ANNOYED']]).mean()\n",
    "    return (pos_sen,neg_sen)\n",
    "\n",
    "    \n",
    "    "
   ]
  },
  {
   "cell_type": "code",
   "execution_count": 166,
   "metadata": {},
   "outputs": [
    {
     "data": {
      "text/plain": [
       "'Snap keeps glitching out when I try to take a picture I can’t send no pictures or videos without snap glitching out, please fix this issue'"
      ]
     },
     "execution_count": 166,
     "metadata": {},
     "output_type": "execute_result"
    }
   ],
   "source": [
    "a.text"
   ]
  },
  {
   "cell_type": "code",
   "execution_count": 174,
   "metadata": {},
   "outputs": [
    {
     "data": {
      "text/plain": [
       "('DONT_CARE', 0.13081050533333335)"
      ]
     },
     "execution_count": 174,
     "metadata": {},
     "output_type": "execute_result"
    }
   ],
   "source": [
    "get_strongest_pos_neg_emotion(res)"
   ]
  },
  {
   "cell_type": "code",
   "execution_count": 182,
   "metadata": {},
   "outputs": [
    {
     "data": {
      "text/plain": [
       "(0.1355774796111111, 0.11778817427777778)"
      ]
     },
     "execution_count": 182,
     "metadata": {},
     "output_type": "execute_result"
    }
   ],
   "source": [
    "compute_sentiment(res)"
   ]
  },
  {
   "cell_type": "code",
   "execution_count": 117,
   "metadata": {},
   "outputs": [],
   "source": [
    "# !pip3 install textacy --upgrade"
   ]
  }
 ],
 "metadata": {
  "kernelspec": {
   "display_name": "Python 3",
   "language": "python",
   "name": "python3"
  },
  "language_info": {
   "codemirror_mode": {
    "name": "ipython",
    "version": 3
   },
   "file_extension": ".py",
   "mimetype": "text/x-python",
   "name": "python",
   "nbconvert_exporter": "python",
   "pygments_lexer": "ipython3",
   "version": "3.6.5"
  }
 },
 "nbformat": 4,
 "nbformat_minor": 2
}
