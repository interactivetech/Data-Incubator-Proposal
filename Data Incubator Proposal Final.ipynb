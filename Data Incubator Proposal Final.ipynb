{
 "cells": [
  {
   "cell_type": "markdown",
   "metadata": {},
   "source": [
    "# Data Incubator Proposal"
   ]
  },
  {
   "cell_type": "markdown",
   "metadata": {},
   "source": [
    "## Challenge\n",
    "2016 reported that 2.1 billion smartphone users in the world and this number is projected to grow to 3.3 billion by 2020(https://www.statista.com/statistics/330695/number-of-smartphone-users-worldwide/) ! With  massive,fast growing companies like Snapchat, Instagram, and Uber have their entire business operating on mobile, delivering the best mobile experience to their customers is important and effects hundreds of millions in revenue. \n",
    "<br>\n",
    "As businesses and enterprises are being demanded to offer mobile applications and services, delivering a great mobile experience is expensive and challenging. "
   ]
  },
  {
   "cell_type": "markdown",
   "metadata": {},
   "source": [
    "## Proposal\n",
    "``Social Media responses`` and ``mobile app reviews`` offer valuable data and insight into what their users are saying about businessed mobile app experience and features they like or dislike.\n",
    "\n",
    "* However, large popular apps like Snapchat and Uber have over 500,000 reviews submitted and rising. \n",
    "* I propose collecting and analyze customer review data overtime as a way for mobile operated businesses, whether small or large, can analyze large volume customer feedback and quickly gain insight into improving their mobile app experience. \n",
    "\n",
    "\n",
    "\n",
    "* ### Data Sources: \n",
    "The various sources I will collect mobile app reviews\n",
    "    * iTunes Search Api: scrapping and aggregating app reviews over time\n",
    "    * [Coming Soon]Tweets to company's customer service\n",
    "    * [Coming Soon] Google Play Developer API: Getting App Review from Google Play store \n",
    "* ### Analysis\n",
    "Analysis I plan to do with mobile app reviews\n",
    "    * I plan to explore not only ``predicting and analyzing sentiment`` of mobile app reviews, but also analyze what are the ``features/key terms`` that are associated with a positive or bad mobile experience. \n",
    "    * Understanding and quickly learning what features/experiences resulted in a bad review or rating will enable businesses and developers to quickly analyze and enhance their mobile experience better and faster.\n"
   ]
  },
  {
   "cell_type": "markdown",
   "metadata": {},
   "source": [
    "## Signifigance\n",
    "Mobile operated businesses like Snapchat and Uber, or even independent iOS developers can leverage sentiment analysis and keyterm extraction to understand what features their users like or dislike. For apps that are popular and have hundreds of thousands of reviews can quickly gain user sentiment over time and deliver great mobile experiences.\n",
    "\n",
    "There are no available datasets aggregating mobile app reviews, so this enables a new oppurtunity for sentiment analysis and keyterm extraction to deliver insights to businesses. \n",
    "* Also with the iTunes Search api, we have the following abilities:\n",
    "    * Can build a model to predict mobile app rating(1-5) based on customer review\n",
    "    * Can compare sentiment of app reviews by different companies, (i.e. US vs UK)\n",
    "    * Can track sentiment over app versions, get quick understanding if features from a certain update were \"good\" or \"bad\"\n",
    "  "
   ]
  },
  {
   "cell_type": "markdown",
   "metadata": {},
   "source": [
    "# Exploratory Analysis\n",
    "* Here I aggregate and clean  Uber and Snapchat app reviews from the past week using the iTunes Search api.\n",
    "* Note: I used Shazam app-review scraping repository to handle collecting iOS app reviews: (https://github.com/shazam/app-store-reviews-and-translations)\n",
    "* I then compute and plot sentiment of Uber and Snapchat reviews overtime showcasing how we can get up-to-date and historical view of customer satisfaction. "
   ]
  },
  {
   "cell_type": "code",
   "execution_count": 9,
   "metadata": {},
   "outputs": [
    {
     "name": "stderr",
     "output_type": "stream",
     "text": [
      "/usr/local/Cellar/python/3.6.5/Frameworks/Python.framework/Versions/3.6/lib/python3.6/importlib/_bootstrap.py:219: RuntimeWarning: numpy.dtype size changed, may indicate binary incompatibility. Expected 96, got 88\n",
      "  return f(*args, **kwds)\n"
     ]
    }
   ],
   "source": [
    "import json\n",
    "import numpy as np\n",
    "import matplotlib.pyplot as plt\n",
    "import pandas as pd\n",
    "import os\n",
    "import textacy\n",
    "from pandas.io.json import json_normalize #package for flattening json in pandas df\n",
    "%matplotlib inline\n",
    "\n",
    "from datetime import datetime\n",
    "from dateutil.parser import parse\n"
   ]
  },
  {
   "cell_type": "markdown",
   "metadata": {},
   "source": [
    "## Data Cleaning"
   ]
  },
  {
   "cell_type": "code",
   "execution_count": 410,
   "metadata": {},
   "outputs": [],
   "source": [
    "# f = open(\"json/reviews-20180717.log\")"
   ]
  },
  {
   "cell_type": "code",
   "execution_count": 132,
   "metadata": {},
   "outputs": [],
   "source": [
    "# !ls json/"
   ]
  },
  {
   "cell_type": "code",
   "execution_count": 10,
   "metadata": {},
   "outputs": [],
   "source": [
    "def parse_all_json_logs(path):\n",
    "    js = []\n",
    "    for log in os.listdir(path):\n",
    "        print(os.path.join(path,log) )\n",
    "        f = open(os.path.join(path,log))\n",
    "        lines = f.readlines()\n",
    "        print(\"Number of reviews: \",len(lines))\n",
    "        f.close()\n",
    "        reviews = [json.loads(i) for i in lines]\n",
    "        js+=reviews\n",
    "    return js"
   ]
  },
  {
   "cell_type": "code",
   "execution_count": 29,
   "metadata": {},
   "outputs": [],
   "source": [
    "# js = f.readlines()\n",
    "# f.close()"
   ]
  },
  {
   "cell_type": "code",
   "execution_count": 39,
   "metadata": {},
   "outputs": [],
   "source": [
    "# uber_reviews = [json.loads(i) for i in js]"
   ]
  },
  {
   "cell_type": "code",
   "execution_count": 11,
   "metadata": {},
   "outputs": [
    {
     "name": "stdout",
     "output_type": "stream",
     "text": [
      "json/reviews-20180722.log\n",
      "Number of reviews:  144\n",
      "json/reviews-20180723.log\n",
      "Number of reviews:  7\n",
      "json/reviews-20180721.log\n",
      "Number of reviews:  163\n",
      "json/reviews-20180720.log\n",
      "Number of reviews:  157\n",
      "json/reviews-20180718.log\n",
      "Number of reviews:  119\n",
      "json/reviews-20180719.log\n",
      "Number of reviews:  171\n",
      "json/reviews-20180717.log\n",
      "Number of reviews:  53\n"
     ]
    }
   ],
   "source": [
    "reviews = parse_all_json_logs('json')\n",
    "\n",
    "# pd.DataFrame(reviews[0])\n",
    "df = json_normalize(reviews[0])\n",
    "for review in reviews[1:]:\n",
    "    df = pd.concat([df,json_normalize(review)],axis=0)"
   ]
  },
  {
   "cell_type": "code",
   "execution_count": 12,
   "metadata": {},
   "outputs": [],
   "source": [
    "uber_reviews = df[df[\"app_name\"]=='Uber']\n",
    "snapchat_reviews = df[df[\"app_name\"]=='Snapchat']"
   ]
  },
  {
   "cell_type": "code",
   "execution_count": null,
   "metadata": {},
   "outputs": [],
   "source": [
    "snapchat_reviews['rating']=snapchat_reviews['rating'].astype(int)"
   ]
  },
  {
   "cell_type": "markdown",
   "metadata": {},
   "source": [
    "### Overview of iTunes Search Api:\n",
    "* We have access to many details about a submitted app review\n",
    "* here is all the attributes we can play with"
   ]
  },
  {
   "cell_type": "code",
   "execution_count": 20,
   "metadata": {},
   "outputs": [
    {
     "data": {
      "text/plain": [
       "app_name                                               Snapchat\n",
       "author                                  instagramstoriesrbetter\n",
       "content       So although I still along w/ everyone else hat...\n",
       "content_en    So although I still along w/ everyone else hat...\n",
       "country                                                      US\n",
       "id                                                   2949617676\n",
       "rating                                                        1\n",
       "store                                                    iTunes\n",
       "t                                   22/Jul/2018:07:41:24 -07:00\n",
       "title                                             Please fixxxx\n",
       "title_en                                          Please fixxxx\n",
       "version                                              10.36.0.23\n",
       "voteCount                                                     0\n",
       "voteSum                                                       0\n",
       "Name: 0, dtype: object"
      ]
     },
     "execution_count": 20,
     "metadata": {},
     "output_type": "execute_result"
    }
   ],
   "source": [
    "snapchat_reviews[snapchat_reviews['rating']==1].iloc[0]"
   ]
  },
  {
   "cell_type": "code",
   "execution_count": 13,
   "metadata": {},
   "outputs": [
    {
     "name": "stderr",
     "output_type": "stream",
     "text": [
      "/usr/local/lib/python3.6/site-packages/ipykernel_launcher.py:1: SettingWithCopyWarning: \n",
      "A value is trying to be set on a copy of a slice from a DataFrame.\n",
      "Try using .loc[row_indexer,col_indexer] = value instead\n",
      "\n",
      "See the caveats in the documentation: http://pandas.pydata.org/pandas-docs/stable/indexing.html#indexing-view-versus-copy\n",
      "  \"\"\"Entry point for launching an IPython kernel.\n"
     ]
    },
    {
     "data": {
      "text/plain": [
       "'Snap keeps glitching out when I try to take a picture I can’t send no pictures or videos without snap glitching out, please fix this issue'"
      ]
     },
     "execution_count": 13,
     "metadata": {},
     "output_type": "execute_result"
    }
   ],
   "source": [
    "snapchat_reviews[snapchat_reviews[\"rating\"]<4].iloc[0]['content_en']"
   ]
  },
  {
   "cell_type": "code",
   "execution_count": 420,
   "metadata": {},
   "outputs": [],
   "source": [
    "# a = textacy.Doc(snapchat_reviews[snapchat_reviews[\"rating\"]<4].iloc[1]['content_en'],lang='en')"
   ]
  },
  {
   "cell_type": "code",
   "execution_count": 421,
   "metadata": {},
   "outputs": [],
   "source": [
    "# a.text"
   ]
  },
  {
   "cell_type": "markdown",
   "metadata": {},
   "source": [
    "## Sentiment Test"
   ]
  },
  {
   "cell_type": "markdown",
   "metadata": {},
   "source": [
    "The sentiment property returns a namedtuple of the form Sentiment(polarity, subjectivity). The polarity score is a float within the range [-1.0, 1.0]. The subjectivity is a float within the range [0.0, 1.0] where 0.0 is very objective and 1.0 is very subjective.\n",
    "### 1)     polarity: negative vs. positive    (-1.0 => +1.0)"
   ]
  },
  {
   "cell_type": "code",
   "execution_count": 40,
   "metadata": {},
   "outputs": [],
   "source": [
    "from textblob import TextBlob\n",
    "def compute_sentiment(text):\n",
    "    '''\n",
    "    Hackish way to determine sentiment\n",
    "    '''\n",
    "    opinion = TextBlob(text)\n",
    "    if opinion.sentiment[0] < 0.0:\n",
    "        return ('Neg',opinion.sentiment[0] )\n",
    "    else:\n",
    "        return ('Pos',opinion.sentiment[0] )\n",
    "        "
   ]
  },
  {
   "cell_type": "code",
   "execution_count": 209,
   "metadata": {},
   "outputs": [
    {
     "data": {
      "text/plain": [
       "('Neg', -0.05714285714285713)"
      ]
     },
     "execution_count": 209,
     "metadata": {},
     "output_type": "execute_result"
    }
   ],
   "source": [
    "compute_sentiment(a.text)"
   ]
  },
  {
   "cell_type": "markdown",
   "metadata": {},
   "source": [
    "## Calculate Sentiment overtime"
   ]
  },
  {
   "cell_type": "code",
   "execution_count": 244,
   "metadata": {},
   "outputs": [],
   "source": [
    "#  m= {k:v for k,v in list(Months.items())}"
   ]
  },
  {
   "cell_type": "code",
   "execution_count": 299,
   "metadata": {},
   "outputs": [],
   "source": [
    "# m"
   ]
  },
  {
   "cell_type": "code",
   "execution_count": 423,
   "metadata": {},
   "outputs": [
    {
     "data": {
      "text/plain": [
       "{'Jan': '01',\n",
       " 'Feb': '02',\n",
       " 'Mar': '03',\n",
       " 'Apr': '04',\n",
       " 'May': '05',\n",
       " 'Jun': '06',\n",
       " 'Jul': '07',\n",
       " 'Aug': '08',\n",
       " 'Sep': '09',\n",
       " 'Oct': '10',\n",
       " 'Nov': '11',\n",
       " 'Dec': '12'}"
      ]
     },
     "execution_count": 423,
     "metadata": {},
     "output_type": "execute_result"
    }
   ],
   "source": [
    " Months = {'01': 'Jan', '02': 'Feb', '03': 'Mar', '04':'Apr', '05': 'May',\\\n",
    "                '06': 'Jun', '07': 'Jul', '08': 'Aug', '09': 'Sep', \\\n",
    "                '10': 'Oct', '11': 'Nov', '12': 'Dec'}\n",
    "month_name_to_num={v:k for k,v in Months.items()}\n",
    "month_name_to_num"
   ]
  },
  {
   "cell_type": "code",
   "execution_count": 425,
   "metadata": {},
   "outputs": [],
   "source": [
    "def convert_month_name_to_num(string,d):\n",
    "    for key in d.keys():\n",
    "#         print(key)\n",
    "        if string.find(key)>-1:\n",
    "            return string.replace(key,d[key])\n",
    "#     '22/Jul/2018:07:46:06 -07:00'.replace('Jul','06')\n",
    "\n",
    "def rreplace(s, old, new, occurrence):\n",
    "    li = s.rsplit(old, occurrence)\n",
    "    return new.join(li)\n",
    "\n",
    "def clean_date_strings(text,d):\n",
    "    print(text)\n",
    "    a = convert_month_name_to_num(text,d)\n",
    "    a = rreplace(a,':','',1)\n",
    "    print(a)\n",
    "    return datetime.strptime(a,\"%d/%m/%Y:%H:%M:%S %z\")\n",
    "    "
   ]
  },
  {
   "cell_type": "code",
   "execution_count": 426,
   "metadata": {},
   "outputs": [
    {
     "name": "stdout",
     "output_type": "stream",
     "text": [
      "22/Jul/2018:07:46:31 -07:00\n",
      "22/07/2018:07:46:31 -0700\n"
     ]
    },
    {
     "data": {
      "text/plain": [
       "datetime.datetime(2018, 7, 22, 7, 46, 31, tzinfo=datetime.timezone(datetime.timedelta(-1, 61200)))"
      ]
     },
     "execution_count": 426,
     "metadata": {},
     "output_type": "execute_result"
    }
   ],
   "source": [
    "# Test to make sure parsing works\n",
    "clean_date_strings(snapchat_reviews[snapchat_reviews[\"rating\"]<4].iloc[0]['t'],month_name_to_num)"
   ]
  },
  {
   "cell_type": "markdown",
   "metadata": {},
   "source": [
    "### Parse string datetime, and convert to python datetime"
   ]
  },
  {
   "cell_type": "code",
   "execution_count": 1,
   "metadata": {},
   "outputs": [],
   "source": [
    "snapchat_reviews[\"t\"]=snapchat_reviews[\"t\"].apply(lambda x:clean_date_strings(x,month_name_to_num) ) #snapchat_reviews[\"rating\"]\n",
    "\n",
    "snapchat_reviews['t']=pd.to_datetime(snapchat_reviews['t'])\n",
    "\n",
    "snapchat_reviews_by_time = snapchat_reviews.sort_values('t')"
   ]
  },
  {
   "cell_type": "code",
   "execution_count": 430,
   "metadata": {},
   "outputs": [],
   "source": [
    "# sentiment = snapchat_reviews_by_time['content_en'].apply(lambda x:compute_sentiment(x)[1]).as_matrix()\n",
    "sentiment_df = snapchat_reviews_by_time['content_en'].apply(lambda x:compute_sentiment(x)[1])\n",
    "sentiment_df=pd.concat([snapchat_reviews_by_time['t'],sentiment_df],axis=1)\n",
    "# time= snapchat_reviews_by_time['t'].as_matrix()"
   ]
  },
  {
   "cell_type": "code",
   "execution_count": 431,
   "metadata": {},
   "outputs": [
    {
     "data": {
      "text/plain": [
       "(array([736893.83333333, 736894.33333333, 736894.83333333, 736895.33333333,\n",
       "        736895.83333333, 736896.33333333, 736896.83333333, 736897.33333333]),\n",
       " <a list of 8 Text xticklabel objects>)"
      ]
     },
     "execution_count": 431,
     "metadata": {},
     "output_type": "execute_result"
    },
    {
     "data": {
      "image/png": "[encoded data removed]",
      "text/plain": [
       "<Figure size 432x288 with 1 Axes>"
      ]
     },
     "metadata": {},
     "output_type": "display_data"
    }
   ],
   "source": [
    "plt.plot(time,sentiment)\n",
    "plt.xticks(rotation=90)"
   ]
  },
  {
   "cell_type": "code",
   "execution_count": 433,
   "metadata": {},
   "outputs": [
    {
     "name": "stderr",
     "output_type": "stream",
     "text": [
      "/usr/local/lib/python3.6/site-packages/ipykernel_launcher.py:3: FutureWarning: pd.rolling_mean is deprecated for DataFrame and will be removed in a future version, replace with \n",
      "\tDataFrame.rolling(window=10,center=False).mean()\n",
      "  This is separate from the ipykernel package so we can avoid doing imports until\n"
     ]
    },
    {
     "data": {
      "image/png": "[encoded data removed]",
      "text/plain": [
       "<Figure size 432x288 with 1 Axes>"
      ]
     },
     "metadata": {},
     "output_type": "display_data"
    }
   ],
   "source": [
    "# \n",
    "sentiment_df=sentiment_df.set_index('t')\n",
    "ax = pd.rolling_mean(sentiment_df,10).plot(title=\"Sentiment Polarity of Snapchat iOS App Reviews Over Time\")\n",
    "ax.set_xlabel('Time')\n",
    "ax.set_ylabel('Sentiment Polarity')\n",
    "ax.legend(['App Reviews submitted to iTunes'])\n",
    "plt.savefig('Sentiment Polarity of Snapchat iOS App Reviews Over Time') "
   ]
  },
  {
   "cell_type": "code",
   "execution_count": null,
   "metadata": {},
   "outputs": [],
   "source": []
  },
  {
   "cell_type": "markdown",
   "metadata": {},
   "source": [
    "## Sentiment of Uber ios app reviews over time"
   ]
  },
  {
   "cell_type": "code",
   "execution_count": 2,
   "metadata": {},
   "outputs": [],
   "source": [
    "uber_reviews[\"t\"]=uber_reviews[\"t\"].apply(lambda x:clean_date_strings(x,month_name_to_num) ) #snapchat_reviews[\"rating\"]\n",
    "uber_reviews['t']=pd.to_datetime(uber_reviews['t'])\n",
    "\n",
    "uber_reviews_by_time = uber_reviews.sort_values('t')\n",
    "# sentiment = uber_reviews_by_time['content_en'].apply(lambda x:compute_sentiment(x)[1]).as_matrix()\n",
    "uber_sentiment_df = uber_reviews_by_time['content_en'].apply(lambda x:compute_sentiment(x)[1])\n",
    "uber_sentiment_df=pd.concat([uber_reviews_by_time['t'],uber_sentiment_df],axis=1)\n",
    "uber_sentiment_df=uber_sentiment_df.set_index('t')\n",
    "# time= snapchat_reviews_uber_reviews_by_timeby_time['t'].as_matrix()"
   ]
  },
  {
   "cell_type": "code",
   "execution_count": 435,
   "metadata": {},
   "outputs": [
    {
     "name": "stderr",
     "output_type": "stream",
     "text": [
      "/usr/local/lib/python3.6/site-packages/ipykernel_launcher.py:1: FutureWarning: pd.rolling_mean is deprecated for DataFrame and will be removed in a future version, replace with \n",
      "\tDataFrame.rolling(window=10,center=False).mean()\n",
      "  \"\"\"Entry point for launching an IPython kernel.\n"
     ]
    },
    {
     "data": {
      "image/png": "[encoded data removed]",
      "text/plain": [
       "<Figure size 432x288 with 1 Axes>"
      ]
     },
     "metadata": {},
     "output_type": "display_data"
    }
   ],
   "source": [
    "ax = pd.rolling_mean(uber_sentiment_df,10).plot(title=\"Sentiment Polarity of Uber iOS App Reviews Over Time\")\n",
    "ax.set_xlabel('Time')\n",
    "ax.set_ylabel('Sentiment Polarity')\n",
    "ax.legend(['App Reviews submitted to iTunes'])\n",
    "plt.savefig('Sentiment Polarity of Uber iOS App Reviews Over Time.png') "
   ]
  },
  {
   "cell_type": "markdown",
   "metadata": {},
   "source": [
    "## Test of Emotional Valence and Keyterm extraction of mobile app reviews"
   ]
  },
  {
   "cell_type": "markdown",
   "metadata": {},
   "source": [
    "With powerful frameworks like textacy, we can easily parse and analyze text to get even more understanding and sentiment about a customer review"
   ]
  },
  {
   "cell_type": "markdown",
   "metadata": {},
   "source": [
    "Here we show how we can extract key terms of a 1 star review, and even analyze the emotion expressed in the review!"
   ]
  },
  {
   "cell_type": "code",
   "execution_count": 26,
   "metadata": {},
   "outputs": [],
   "source": [
    "import textacy\n",
    "from textacy.keyterms import textrank, sgrank\n",
    "from textacy.lexicon_methods import emotional_valence"
   ]
  },
  {
   "cell_type": "markdown",
   "metadata": {},
   "source": [
    "### Keyterm extraction"
   ]
  },
  {
   "cell_type": "markdown",
   "metadata": {},
   "source": [
    "#### A sample of a 1-star rated review"
   ]
  },
  {
   "cell_type": "code",
   "execution_count": 22,
   "metadata": {},
   "outputs": [],
   "source": [
    "one_star_review = textacy.Doc(snapchat_reviews[snapchat_reviews['rating']==1].iloc[0]['content_en'],lang='en')"
   ]
  },
  {
   "cell_type": "code",
   "execution_count": 24,
   "metadata": {},
   "outputs": [
    {
     "data": {
      "text/plain": [
       "'So although I still along w/ everyone else hate the newer updates , ive let it go Bc you guys obviously don’t value “customer” satisfaction, HOWEVER can yalll pleaseeeee put back the “clear all conversations” button back instead of having to manually!!!!! Delete them all which btw ( I spent 20 mins deleting all of them & 2 minutes later they came back) the way y’all have set up stories is already inconvenient & messy enough atleast let me clear my feed 🙄 it’s to the point where I get stressed out using the app & I love Snapchat but I’m really considering deleting it'"
      ]
     },
     "execution_count": 24,
     "metadata": {},
     "output_type": "execute_result"
    }
   ],
   "source": [
    "one_star_review.text"
   ]
  },
  {
   "cell_type": "code",
   "execution_count": 41,
   "metadata": {},
   "outputs": [
    {
     "data": {
      "text/plain": [
       "('Neg', -0.05714285714285713)"
      ]
     },
     "execution_count": 41,
     "metadata": {},
     "output_type": "execute_result"
    }
   ],
   "source": [
    "compute_sentiment(one_star_review.text)"
   ]
  },
  {
   "cell_type": "markdown",
   "metadata": {},
   "source": [
    "#### Here we extract key terms from a document using the SGRank algorithm. \n",
    "* SGRank is an unsupervised automatic key term extraction\n",
    "\n",
    "* [SGRank] Danesh, Sumner, and Martin. \"SGRank: Combining Statistical and Graphical Methods to Improve the State of the Art in Unsupervised Keyphrase Extraction\". Lexical and Computational Semantics (* SEM 2015) (2015): 117"
   ]
  },
  {
   "cell_type": "code",
   "execution_count": 42,
   "metadata": {},
   "outputs": [
    {
     "data": {
      "text/plain": [
       "[('messy enough atleast', 0.2457750792814893),\n",
       " ('yalll pleaseeeee', 0.2062540268798868),\n",
       " ('new update', 0.13421971144730405),\n",
       " ('button', 0.0352667030838702),\n",
       " ('conversation', 0.030908106605205092),\n",
       " ('satisfaction', 0.02865774639890465),\n",
       " ('inconvenient', 0.028319739373636573),\n",
       " ('clear', 0.027285562785679958),\n",
       " ('story', 0.026592806562270723),\n",
       " ('way', 0.026011585714015177)]"
      ]
     },
     "execution_count": 42,
     "metadata": {},
     "output_type": "execute_result"
    }
   ],
   "source": [
    "sgrank(one_star_review)"
   ]
  },
  {
   "cell_type": "markdown",
   "metadata": {},
   "source": [
    "Here we see from the top phrases extracted, we can see app related features are mentioned such as\n",
    "* new update\n",
    "* button"
   ]
  },
  {
   "cell_type": "markdown",
   "metadata": {},
   "source": [
    "### Emotional Analysis using Textacy NLP Library\n",
    "* we can even do emotional analysis using textacy builtin functions. \n",
    "* We can use the emotional_valence function to get average emotional valence a review. The following emotions are computed – AFRAID, AMUSED, ANGRY, ANNOYED, DONT_CARE, HAPPY, INSPIRED, SAD – using the [DepecheMood] dataset.\n",
    "[\"DepecheMood: a Lexicon for Emotion Analysis from Crowd-Annotated News\". To appear in Proceedings of ACL 2014. ](#http://www.depechemood.eu/technology.html) \n",
    "\n",
    "* Note: Emotion analysis is not as reliable as sentiment as seen by example below, so need to investigate on how to apply emotion analysis robustly\n",
    "<!--bibtex\n",
    "@ARTICLE{2014arXiv1405.1605S,\n",
    "   author = {{Staiano}, J. and {Guerini}, M.},\n",
    "    title = \"{DepecheMood: a Lexicon for Emotion Analysis from Crowd-Annotated News}\",\n",
    "  journal = {ArXiv e-prints},\n",
    "archivePrefix = \"arXiv\",\n",
    "   eprint = {1405.1605},\n",
    " primaryClass = \"cs.CL\",\n",
    " keywords = {Computer Science - Computation and Language, Computer Science - Computers and Society},\n",
    "     year = 2014,\n",
    "    month = may,\n",
    "   adsurl = {http://adsabs.harvard.edu/abs/2014arXiv1405.1605S},\n",
    "  adsnote = {Provided by the SAO/NASA Astrophysics Data System}\n",
    "}\n",
    "-->"
   ]
  },
  {
   "cell_type": "code",
   "execution_count": 43,
   "metadata": {},
   "outputs": [],
   "source": [
    "res = emotional_valence(list(one_star_review.tokens),dm_data_dir=\"../../DepecheMood_V1.0/\")"
   ]
  },
  {
   "cell_type": "code",
   "execution_count": 44,
   "metadata": {},
   "outputs": [
    {
     "data": {
      "text/plain": [
       "defaultdict(float,\n",
       "            {'AFRAID': 0.10859367292307691,\n",
       "             'AMUSED': 0.14160442284615385,\n",
       "             'ANGRY': 0.11891582315384616,\n",
       "             'ANNOYED': 0.12821893636538462,\n",
       "             'DONT_CARE': 0.13039449813461537,\n",
       "             'HAPPY': 0.12437881171153847,\n",
       "             'INSPIRED': 0.13471745696153842,\n",
       "             'SAD': 0.11317637769230766})"
      ]
     },
     "execution_count": 44,
     "metadata": {},
     "output_type": "execute_result"
    }
   ],
   "source": [
    "res"
   ]
  },
  {
   "cell_type": "code",
   "execution_count": 52,
   "metadata": {},
   "outputs": [],
   "source": [
    "def get_strongest_emotion(emotional_valence):\n",
    "#     emotional_valence.pop('AMUSED')\n",
    "    l = list(res.items())\n",
    "    return sorted(l,key=lambda x:x[1],reverse=True)[0]\n",
    "def get_strongest_pos_neg_emotion(emotional_valence):\n",
    "    '''\n",
    "    Removing emotions not relevent in app reviews\n",
    "    '''\n",
    "    #'AFRAID': 0.10909253308333333,\n",
    "    #'AMUSED': 0.1509716585833333,\n",
    "    # 'INSPIRED': 0.13202246833333334,\n",
    "    emotional_valence.pop('AFRAID')\n",
    "    emotional_valence.pop('AMUSED')\n",
    "    emotional_valence.pop('INSPIRED')\n",
    "    l = list(res.items())\n",
    "    return sorted(l,key=lambda x:x[1],reverse=True)[0]\n",
    "\n",
    "    \n",
    "    "
   ]
  },
  {
   "cell_type": "code",
   "execution_count": 53,
   "metadata": {},
   "outputs": [
    {
     "data": {
      "text/plain": [
       "('INSPIRED', 0.13471745696153842)"
      ]
     },
     "execution_count": 53,
     "metadata": {},
     "output_type": "execute_result"
    }
   ],
   "source": [
    "get_strongest_emotion(res)"
   ]
  },
  {
   "cell_type": "markdown",
   "metadata": {},
   "source": [
    "<!--bibtex\n",
    "\n",
    "@Article{PER-GRA:2007,\n",
    "  Author    = {P\\'erez, Fernando and Granger, Brian E.},\n",
    "  Title     = {{IP}ython: a System for Interactive Scientific Computing},\n",
    "  Journal   = {Computing in Science and Engineering},\n",
    "  Volume    = {9},\n",
    "  Number    = {3},\n",
    "  Pages     = {21--29},\n",
    "  month     = may,\n",
    "  year      = 2007,\n",
    "  url       = \"http://ipython.org\",\n",
    "  ISSN      = \"1521-9615\",\n",
    "  doi       = {10.1109/MCSE.2007.53},\n",
    "  publisher = {IEEE Computer Society},\n",
    "}\n",
    "\n",
    "@article{Papa2007,\n",
    "  author = {Papa, David A. and Markov, Igor L.},\n",
    "  journal = {Approximation algorithms and metaheuristics},\n",
    "  pages = {1--38},\n",
    "  title = {{Hypergraph partitioning and clustering}},\n",
    "  url = {http://www.podload.org/pubs/book/part\\_survey.pdf},\n",
    "  year = {2007}\n",
    "}\n",
    "\n",
    "-->"
   ]
  }
 ],
 "metadata": {
  "kernelspec": {
   "display_name": "Python 3",
   "language": "python",
   "name": "python3"
  },
  "language_info": {
   "codemirror_mode": {
    "name": "ipython",
    "version": 3
   },
   "file_extension": ".py",
   "mimetype": "text/x-python",
   "name": "python",
   "nbconvert_exporter": "python",
   "pygments_lexer": "ipython3",
   "version": "3.6.5"
  }
 },
 "nbformat": 4,
 "nbformat_minor": 2
}
